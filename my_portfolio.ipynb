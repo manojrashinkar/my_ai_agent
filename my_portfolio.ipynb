{
 "cells": [
  {
   "cell_type": "code",
   "execution_count": 45,
   "id": "b1347419",
   "metadata": {},
   "outputs": [],
   "source": [
    "from dotenv import load_dotenv\n",
    "from openai import OpenAI\n",
    "from pypdf import PdfReader\n",
    "import gradio as gr\n",
    "import os"
   ]
  },
  {
   "cell_type": "code",
   "execution_count": 30,
   "id": "139b7b2a",
   "metadata": {},
   "outputs": [],
   "source": [
    "load_dotenv(override=True)\n",
    "openai = OpenAI()"
   ]
  },
  {
   "cell_type": "code",
   "execution_count": 31,
   "id": "9a768e99",
   "metadata": {},
   "outputs": [],
   "source": [
    "reader = PdfReader(\"Profile.pdf\")\n",
    "linkedin = \"Profile.pdf\"\n",
    "for page in reader.pages:\n",
    "    text = page.extract_text()\n",
    "    if text:\n",
    "        linkedin += text"
   ]
  },
  {
   "cell_type": "code",
   "execution_count": 32,
   "id": "39f8e761",
   "metadata": {},
   "outputs": [
    {
     "name": "stdout",
     "output_type": "stream",
     "text": [
      "Profile.pdfContact\n",
      "+91 7483055353 (Mobile) \n",
      "manojrashinkar1@gmail.com\n",
      "www.linkedin.com/in/manoj-\n",
      "rashinkar-82a4841b0 (LinkedIn)\n",
      "Top Skills\n",
      "Python Programming & \n",
      "Libraries (NumPy, Pandas, \n",
      "PyTorch/TensorFlow, Scikit-\n",
      "learn)\n",
      "Mathematics & Statistics \n",
      "(Linear Algebra, Calculus, \n",
      "Probability, Optimization)\n",
      "Machine Learning & Deep \n",
      "Learning Algorithms\n",
      "Manoj Rashinkar\n",
      "Developer II\n",
      "Bengaluru, Karnataka, India\n",
      "Summary\n",
      "Hello! I'm Manoj Rashinkar, a passionate AI/ML Engineer actively\n",
      "expanding my expertise into Data Science. With a strong foundation\n",
      "in developing and optimizing AI models — including LLMs (LLAMA,\n",
      "QWEN, Mistral, DeepSeek, Gemma), diffusion models (SDXL,\n",
      "SD 1.5, SD3, LoRA), and multi-modal models like Whisper — I\n",
      "have hands-on experience in deploying AI solutions using Python,\n",
      "OpenVINO Toolkit, ONNX Runtime, and Intel-based PC platforms.\n",
      "My professional journey includes delivering AI-powered solutions,\n",
      "automating workflows, optimizing model performance, and\n",
      "integrating advanced ML models into real-world ISV applications.\n",
      "This experience has equipped me with deep technical skills and a\n",
      "problem-solving mindset, which I am now leveraging to transition into\n",
      "Data Science roles.\n",
      "Skilled in:\n",
      "Data Science & Analytics: Strong in data preprocessing, exploratory\n",
      "data analysis (EDA), statistical modeling, and extracting actionable\n",
      "insights from complex datasets.\n",
      "Machine Learning & AI: Expertise in model development, fine-\n",
      "tuning, quantization, optimization, and deployment of LLMs, diffusion\n",
      "models, and speech recognition systems using Python, PyTorch,\n",
      "OpenVINO, and ONNX Runtime.\n",
      "Python Programming: Proficient in data manipulation (Pandas,\n",
      "NumPy), machine learning (scikit-learn, TensorFlow, PyTorch), and\n",
      "building scalable AI pipelines.\n",
      "Visualization & Storytelling: Skilled in Power BI and Tableau for\n",
      "transforming data into intuitive dashboards, enabling effective\n",
      "communication of data-driven insights.\n",
      "Page 1 of 3   \n",
      "I thrive on solving challenging problems, building end-to-end AI\n",
      "solutions, and continuously upgrading my skills by staying updated\n",
      "with the latest trends in AI, ML, and Data Science.\n",
      "Seeking:\n",
      "I am excited to collaborate on innovative Data Science projects that\n",
      "turn data into actionable business insights. Let’s connect and explore\n",
      "how I can bring my AI/ML expertise and growing Data Science skills\n",
      "to your team!\n",
      "Experience\n",
      "UST\n",
      "Developer II\n",
      "May 2024 - Present (1 year 3 months)\n",
      "Bengaluru, Karnataka, India\n",
      "KLETech-Center of Excellence in Visual Intelligence (CEVI)\n",
      "Intern\n",
      "November 2022 - December 2022 (2 months)\n",
      "Hubli, Karnataka, India\n",
      "The Project Surface Defect Detection using Machine Learning was done under\n",
      "the guidance of CEVI.\n",
      "Focused on providing visual intelligence-based solutions to real-world\n",
      "problems by facilitating visual intelligence inferences by generating engineered\n",
      "data customized for building specific/identified solutions.\n",
      "SOC Experts\n",
      "Web Developer\n",
      "August 2022 - October 2022 (3 months)\n",
      "Hubli, Karnataka, India\n",
      "Developed new user-facing features using React.js. by Building reusable\n",
      "components and front-end libraries for future use by optimizing components\n",
      "for maximum performance across a vast array of web-capable devices and\n",
      "browsers.\n",
      "Capgemini\n",
      "Senior Software Analyst\n",
      "May 2019 - February 2022 (2 years 10 months)\n",
      "Bengaluru, Karnataka, India\n",
      "  Page 2 of 3   \n",
      "- Oversee and monitor compliances with applicable laws and regulations of\n",
      "India including laws related to information technology\n",
      "- Worked closely and creatively with other functions in their respective statutory\n",
      "compliances and provide support and guidance to internal teams on respective\n",
      "compliance matters.\n",
      "- Primary responsibility for managing compliance management tools and\n",
      "preparation of the compliance reports at regular intervals.\n",
      "- Updated on regulatory changes to various teams to align with new\n",
      "compliance requirements.\n",
      "- Participated and lead group initiatives.\n",
      "- Actively worked on training and building awareness.\n",
      "Education\n",
      "KLE Institute of Technology, HUBLI\n",
      "Master of Computer Applications - MCA, Computer Science · (February\n",
      "2021 - August 2023)\n",
      "Karnataka University, Dharwad\n",
      "Bachelor of Computer Application, Computer Science · (July 2016 - April 2019)\n",
      "Nalanda Gurukula International Independent Residential Pre-\n",
      "University College\n",
      "Pre University, Science · (February 2014 - May 2016)\n",
      "  Page 3 of 3\n"
     ]
    }
   ],
   "source": [
    "print(linkedin)"
   ]
  },
  {
   "cell_type": "code",
   "execution_count": 33,
   "id": "7fa3b028",
   "metadata": {},
   "outputs": [],
   "source": [
    "with open(\"summary.txt\", \"r\", encoding=\"utf-8\") as f:\n",
    "    summary = f.read()"
   ]
  },
  {
   "cell_type": "code",
   "execution_count": 34,
   "id": "daf474ae",
   "metadata": {},
   "outputs": [],
   "source": [
    "name = \"Manoj Rashinkar\""
   ]
  },
  {
   "cell_type": "code",
   "execution_count": 61,
   "id": "09c31617",
   "metadata": {},
   "outputs": [],
   "source": [
    "system_prompt = f\"You are acting as {name}. You are answering questions on {name}'s website, \\\n",
    "particularly questions related to {name}'s career, background, skills and experience. \\\n",
    "Your responsibility is to represent {name} for interactions on the website as faithfully as possible. \\\n",
    "You are given a summary of {name}'s background and LinkedIn profile which you can use to answer questions. \\\n",
    "Be professional and engaging, as if talking to a potential client or future employer who came across the website. \\\n",
    "If you don't know the answer, say so.\"\n",
    "\n",
    "system_prompt += f\"\\n\\n## Summary:\\n{summary}\\n\\n## LinkedIn Profile:\\n{linkedin}\\n\\n\"\n",
    "system_prompt += f\"With this context, please chat with the user, always staying in character as {name}.\"\n",
    "system_prompt += f\"With this context, please chat if you dont have information about me replay asking Please ask about career only\""
   ]
  },
  {
   "cell_type": "code",
   "execution_count": 62,
   "id": "eb0dd33c",
   "metadata": {},
   "outputs": [
    {
     "name": "stdout",
     "output_type": "stream",
     "text": [
      "You are acting as Manoj Rashinkar. You are answering questions on Manoj Rashinkar's website, particularly questions related to Manoj Rashinkar's career, background, skills and experience. Your responsibility is to represent Manoj Rashinkar for interactions on the website as faithfully as possible. You are given a summary of Manoj Rashinkar's background and LinkedIn profile which you can use to answer questions. Be professional and engaging, as if talking to a potential client or future employer who came across the website. If you don't know the answer, say so.\n",
      "\n",
      "## Summary:\n",
      "My name is Manoj Rashinkar. I'm an AI Solutions Engineer and Python enthusiast with a strong foundation in software engineering and data science. I'm originally from India and passionate about building intelligent, real-world AI solutions that make life easier.\n",
      "Outside of tech, I have a big sweet tooth — I enjoy desserts way more than spicy food. My favorites include misal (on the milder side) and anything with paneer. Paneer butter masala and a good slice of cake? That’s a perfect meal.\n",
      "\n",
      "## LinkedIn Profile:\n",
      "Profile.pdfContact\n",
      "+91 7483055353 (Mobile) \n",
      "manojrashinkar1@gmail.com\n",
      "www.linkedin.com/in/manoj-\n",
      "rashinkar-82a4841b0 (LinkedIn)\n",
      "Top Skills\n",
      "Python Programming & \n",
      "Libraries (NumPy, Pandas, \n",
      "PyTorch/TensorFlow, Scikit-\n",
      "learn)\n",
      "Mathematics & Statistics \n",
      "(Linear Algebra, Calculus, \n",
      "Probability, Optimization)\n",
      "Machine Learning & Deep \n",
      "Learning Algorithms\n",
      "Manoj Rashinkar\n",
      "Developer II\n",
      "Bengaluru, Karnataka, India\n",
      "Summary\n",
      "Hello! I'm Manoj Rashinkar, a passionate AI/ML Engineer actively\n",
      "expanding my expertise into Data Science. With a strong foundation\n",
      "in developing and optimizing AI models — including LLMs (LLAMA,\n",
      "QWEN, Mistral, DeepSeek, Gemma), diffusion models (SDXL,\n",
      "SD 1.5, SD3, LoRA), and multi-modal models like Whisper — I\n",
      "have hands-on experience in deploying AI solutions using Python,\n",
      "OpenVINO Toolkit, ONNX Runtime, and Intel-based PC platforms.\n",
      "My professional journey includes delivering AI-powered solutions,\n",
      "automating workflows, optimizing model performance, and\n",
      "integrating advanced ML models into real-world ISV applications.\n",
      "This experience has equipped me with deep technical skills and a\n",
      "problem-solving mindset, which I am now leveraging to transition into\n",
      "Data Science roles.\n",
      "Skilled in:\n",
      "Data Science & Analytics: Strong in data preprocessing, exploratory\n",
      "data analysis (EDA), statistical modeling, and extracting actionable\n",
      "insights from complex datasets.\n",
      "Machine Learning & AI: Expertise in model development, fine-\n",
      "tuning, quantization, optimization, and deployment of LLMs, diffusion\n",
      "models, and speech recognition systems using Python, PyTorch,\n",
      "OpenVINO, and ONNX Runtime.\n",
      "Python Programming: Proficient in data manipulation (Pandas,\n",
      "NumPy), machine learning (scikit-learn, TensorFlow, PyTorch), and\n",
      "building scalable AI pipelines.\n",
      "Visualization & Storytelling: Skilled in Power BI and Tableau for\n",
      "transforming data into intuitive dashboards, enabling effective\n",
      "communication of data-driven insights.\n",
      "Page 1 of 3   \n",
      "I thrive on solving challenging problems, building end-to-end AI\n",
      "solutions, and continuously upgrading my skills by staying updated\n",
      "with the latest trends in AI, ML, and Data Science.\n",
      "Seeking:\n",
      "I am excited to collaborate on innovative Data Science projects that\n",
      "turn data into actionable business insights. Let’s connect and explore\n",
      "how I can bring my AI/ML expertise and growing Data Science skills\n",
      "to your team!\n",
      "Experience\n",
      "UST\n",
      "Developer II\n",
      "May 2024 - Present (1 year 3 months)\n",
      "Bengaluru, Karnataka, India\n",
      "KLETech-Center of Excellence in Visual Intelligence (CEVI)\n",
      "Intern\n",
      "November 2022 - December 2022 (2 months)\n",
      "Hubli, Karnataka, India\n",
      "The Project Surface Defect Detection using Machine Learning was done under\n",
      "the guidance of CEVI.\n",
      "Focused on providing visual intelligence-based solutions to real-world\n",
      "problems by facilitating visual intelligence inferences by generating engineered\n",
      "data customized for building specific/identified solutions.\n",
      "SOC Experts\n",
      "Web Developer\n",
      "August 2022 - October 2022 (3 months)\n",
      "Hubli, Karnataka, India\n",
      "Developed new user-facing features using React.js. by Building reusable\n",
      "components and front-end libraries for future use by optimizing components\n",
      "for maximum performance across a vast array of web-capable devices and\n",
      "browsers.\n",
      "Capgemini\n",
      "Senior Software Analyst\n",
      "May 2019 - February 2022 (2 years 10 months)\n",
      "Bengaluru, Karnataka, India\n",
      "  Page 2 of 3   \n",
      "- Oversee and monitor compliances with applicable laws and regulations of\n",
      "India including laws related to information technology\n",
      "- Worked closely and creatively with other functions in their respective statutory\n",
      "compliances and provide support and guidance to internal teams on respective\n",
      "compliance matters.\n",
      "- Primary responsibility for managing compliance management tools and\n",
      "preparation of the compliance reports at regular intervals.\n",
      "- Updated on regulatory changes to various teams to align with new\n",
      "compliance requirements.\n",
      "- Participated and lead group initiatives.\n",
      "- Actively worked on training and building awareness.\n",
      "Education\n",
      "KLE Institute of Technology, HUBLI\n",
      "Master of Computer Applications - MCA, Computer Science · (February\n",
      "2021 - August 2023)\n",
      "Karnataka University, Dharwad\n",
      "Bachelor of Computer Application, Computer Science · (July 2016 - April 2019)\n",
      "Nalanda Gurukula International Independent Residential Pre-\n",
      "University College\n",
      "Pre University, Science · (February 2014 - May 2016)\n",
      "  Page 3 of 3\n",
      "\n",
      "With this context, please chat with the user, always staying in character as Manoj Rashinkar.With this context, please chat if you dont have information about me replay asking Please ask about career only\n"
     ]
    }
   ],
   "source": [
    "print(system_prompt)"
   ]
  },
  {
   "cell_type": "code",
   "execution_count": 63,
   "id": "c3308228",
   "metadata": {},
   "outputs": [
    {
     "name": "stdout",
     "output_type": "stream",
     "text": [
      "Google API Key exists and begins AI\n"
     ]
    }
   ],
   "source": [
    "google_api_key = os.getenv('GOOGLE_API_KEY')\n",
    "if google_api_key:\n",
    "    print(f\"Google API Key exists and begins {google_api_key[:2]}\")\n",
    "else:\n",
    "    print(\"Google API Key not set (and this is optional)\")"
   ]
  },
  {
   "cell_type": "code",
   "execution_count": 64,
   "id": "664129e5",
   "metadata": {},
   "outputs": [],
   "source": [
    "def chat(message, history):\n",
    "    \n",
    "    messages = [{\"role\": \"system\", \"content\": system_prompt}] + history + [{\"role\": \"user\", \"content\": message}]\n",
    "\n",
    "    gemini = OpenAI(api_key=google_api_key, base_url=\"https://generativelanguage.googleapis.com/v1beta/openai/\")\n",
    "    model_name = \"gemini-2.0-flash\"\n",
    "    response = gemini.chat.completions.create(model=model_name, messages=messages)\n",
    "    return response.choices[0].message.content\n",
    "\n",
    "    # display(Markdown(answer))\n",
    "  "
   ]
  },
  {
   "cell_type": "code",
   "execution_count": null,
   "id": "787bd187",
   "metadata": {},
   "outputs": [],
   "source": []
  },
  {
   "cell_type": "code",
   "execution_count": null,
   "id": "b3014273",
   "metadata": {},
   "outputs": [],
   "source": []
  },
  {
   "cell_type": "code",
   "execution_count": 67,
   "id": "7fac5761",
   "metadata": {},
   "outputs": [
    {
     "name": "stdout",
     "output_type": "stream",
     "text": [
      "* Running on local URL:  http://127.0.0.1:7869\n",
      "* To create a public link, set `share=True` in `launch()`.\n"
     ]
    },
    {
     "data": {
      "text/html": [
       "<div><iframe src=\"http://127.0.0.1:7869/\" width=\"100%\" height=\"500\" allow=\"autoplay; camera; microphone; clipboard-read; clipboard-write;\" frameborder=\"0\" allowfullscreen></iframe></div>"
      ],
      "text/plain": [
       "<IPython.core.display.HTML object>"
      ]
     },
     "metadata": {},
     "output_type": "display_data"
    },
    {
     "data": {
      "text/plain": []
     },
     "execution_count": 67,
     "metadata": {},
     "output_type": "execute_result"
    }
   ],
   "source": [
    "# gr.ChatInterface(chat, type=\"messages\").launch()\n",
    "gr.ChatInterface(\n",
    "    chat,\n",
    "    type=\"messages\",\n",
    "    title=\"👨‍💼 Ask Me Anything - ManojGPT\",\n",
    "    description=\"I'm your personalized AI agent. Ask anything about Manoj's career, skills, or journey!\"\n",
    ").launch()\n"
   ]
  },
  {
   "cell_type": "code",
   "execution_count": null,
   "id": "42ad821f",
   "metadata": {},
   "outputs": [],
   "source": []
  },
  {
   "cell_type": "code",
   "execution_count": null,
   "id": "671cde06",
   "metadata": {},
   "outputs": [],
   "source": []
  }
 ],
 "metadata": {
  "kernelspec": {
   "display_name": "m",
   "language": "python",
   "name": "python3"
  },
  "language_info": {
   "codemirror_mode": {
    "name": "ipython",
    "version": 3
   },
   "file_extension": ".py",
   "mimetype": "text/x-python",
   "name": "python",
   "nbconvert_exporter": "python",
   "pygments_lexer": "ipython3",
   "version": "3.13.1"
  }
 },
 "nbformat": 4,
 "nbformat_minor": 5
}
